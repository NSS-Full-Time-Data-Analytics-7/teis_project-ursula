{
 "cells": [
  {
   "cell_type": "markdown",
   "id": "eec723b0",
   "metadata": {},
   "source": [
    "### What is the rate of re-referral?\n",
    " "
   ]
  },
  {
   "cell_type": "markdown",
   "id": "5c9c8c3e",
   "metadata": {},
   "source": [
    "How:\n",
    "df with every child id once (teis_df)\n",
    "df with duplicates (dups_df)\n",
    "\n",
    "every kids id listed once (teis_count_df)/ how many are referred <1 (dups_count_df)\n",
    "\n",
    "find percent of child id that had more than one referral (opposite of above)\n",
    "\n",
    "how many children have multiple referrals by year/POE?\n",
    "\n",
    "count child id by year (duplicates table) - make bar graph to show counts by year\n",
    "\n",
    "count of child id by POE (duplicates table) - make bar graph to show counts by POE"
   ]
  },
  {
   "cell_type": "markdown",
   "id": "7663821a",
   "metadata": {},
   "source": [
    "### A referral is considered a \"successful\" referral if it results in an Individualized Family Service Plan (IFSP).Are there referral sources that have had higher rates of successful referrals? You can determine whether a referral was successful by looking at whether the Initial IFSP Date column is filled in or whether the Child Phase column is equal to IFSP."
   ]
  },
  {
   "cell_type": "markdown",
   "id": "080797a1",
   "metadata": {},
   "source": [
    "isolate sucessful and unsuccessful referrals - create a loop to identify \"success\"\n",
    "Use \"initial IFSP Date\" as success maker\n",
    "count success by referral source\n",
    "bar chart xaxis= POE, yaxis= count of referrals, 2 columns for each POE (one for successful, one for unsuccessful)\n"
   ]
  },
  {
   "cell_type": "markdown",
   "id": "ab7b345a",
   "metadata": {},
   "source": [
    "### Some areas of potential concern are POEs having a low proportion of referrals, a high average age of referrals, a low percent of total referrals resulting in an IFSP or a lower percent of eligible referrals resulting in an IFSP. How do POEs compare on these metrics, and which POEs are of concern on the basis of one or more of the listed criteria?"
   ]
  },
  {
   "cell_type": "code",
   "execution_count": null,
   "id": "97f68215",
   "metadata": {},
   "outputs": [],
   "source": [
    "-Compare metrics:\n",
    "            POE with low proportion of referrals\n",
    "            avg age of referral\n",
    "            percent of referrals with ISFP (aka percent of successful)\n",
    "            eligibilty vs success\n",
    "            \n",
    "POE with low proportion of referrals:\n",
    "    sum of referrals by POE\n",
    "    \n",
    "Avg age of referral:\n",
    "    avg age of child at referral (referral date - DOB)\n",
    "    avg age of referal by variables (county, POE, referral source, etc)\n",
    "    goal: to intervene asap/sooner\n",
    "    \n",
    "low percent of referrals that succeed \n",
    "    sucess referrals/total referrals per POE\n",
    "    \n",
    "low percent of eligible referrals that succeed\n",
    "    eligible success referrals/total eligible referrals\n",
    "    take out 'ineligible' in Initial eligibility column\n",
    "    "
   ]
  },
  {
   "cell_type": "markdown",
   "id": "d2906eb0",
   "metadata": {},
   "source": [
    "### Look for patterns in referrals and re-referrals on the basis of the following:"
   ]
  },
  {
   "cell_type": "markdown",
   "id": "c889b2b0",
   "metadata": {},
   "source": [
    "\n",
    "    *for both re-referral df and all data df\n",
    "Age - find the time between dob and referral date (calculate in months)\n",
    "\n",
    "Referral source - find the types of referral sources, count of referrals by source\n",
    "                which sources have more successful referrals?\n",
    "\n",
    "Socioeconomic status (County SES) - single referral count by column: County SES vs duplicate referral count by SES"
   ]
  },
  {
   "cell_type": "markdown",
   "id": "49b66334",
   "metadata": {},
   "source": [
    "### TEIS provides services to eligible infants and toddlers from birth to age 3. Are there any POE or service coordinators with high rates of early closure (a child exiting before reaching age 3)? For this question, only consider cases which have reached the IFSP phase."
   ]
  },
  {
   "cell_type": "code",
   "execution_count": null,
   "id": "f4e4c70e",
   "metadata": {},
   "outputs": [],
   "source": [
    "filter down to successful referrals\n",
    "calculate child age at exit date\n",
    "find early closures (early = a child exiting before age 3)\n",
    "    for those children that exited before turning 3 (36 months), does is correlate to POE or service coordinators?"
   ]
  },
  {
   "cell_type": "code",
   "execution_count": null,
   "id": "44b7fb03",
   "metadata": {},
   "outputs": [],
   "source": []
  }
 ],
 "metadata": {
  "kernelspec": {
   "display_name": "Python 3 (ipykernel)",
   "language": "python",
   "name": "python3"
  },
  "language_info": {
   "codemirror_mode": {
    "name": "ipython",
    "version": 3
   },
   "file_extension": ".py",
   "mimetype": "text/x-python",
   "name": "python",
   "nbconvert_exporter": "python",
   "pygments_lexer": "ipython3",
   "version": "3.9.12"
  }
 },
 "nbformat": 4,
 "nbformat_minor": 5
}
